{
 "cells": [
  {
   "cell_type": "markdown",
   "metadata": {},
   "source": [
    "# Archivos"
   ]
  },
  {
   "cell_type": "markdown",
   "metadata": {},
   "source": [
    "Hasta ahora, nada de lo que hemos hecho en nuestro programa persiste en la memoria de nuestro computador: cuando el programa deja de ejecutarse, perdemos todo...\n",
    "\n",
    "Si queremos que algo persista, tenemos que ponerlo en archivos que van a ser guardados en el disco duro de nuestro computador. En esta ocasion, aprenderemos a leer, crear y escribir archivos de texto plano (.txt)"
   ]
  },
  {
   "cell_type": "markdown",
   "metadata": {},
   "source": [
    "## Abrir y cerrar archivos"
   ]
  },
  {
   "cell_type": "code",
   "execution_count": 2,
   "metadata": {},
   "outputs": [],
   "source": [
    "# Opcion 1: abrir y cerrar manual\n",
    "\n",
    "mi_archivo = open('mi_archivo.txt', 'r')\n",
    "\n",
    "# Todo lo que queramos hacer \n",
    "\n",
    "mi_archivo.close()"
   ]
  },
  {
   "cell_type": "markdown",
   "metadata": {},
   "source": [
    "Muy importante acordarse de cerrar el archivo!!!"
   ]
  },
  {
   "cell_type": "code",
   "execution_count": 5,
   "metadata": {},
   "outputs": [],
   "source": [
    "# Opcion 2\n",
    "with open('mi_archivo.txt', 'r') as mi_archivo:\n",
    "    mi_archivo.readlines()"
   ]
  },
  {
   "cell_type": "markdown",
   "metadata": {},
   "source": [
    "## Leer archivos"
   ]
  },
  {
   "cell_type": "markdown",
   "metadata": {},
   "source": [
    "Podemos leer el archivo linea por linea con ```readline()```"
   ]
  },
  {
   "cell_type": "code",
   "execution_count": 6,
   "metadata": {},
   "outputs": [
    {
     "name": "stdout",
     "output_type": "stream",
     "text": [
      "Hola\n",
      "\n",
      "Soy un archivo de texto\n",
      "\n",
      "Y tengo tres lineas escritas \n"
     ]
    }
   ],
   "source": [
    "mi_archivo = open('mi_archivo.txt', 'r')\n",
    "\n",
    "linea1 = mi_archivo.readline()\n",
    "print(linea1)\n",
    "\n",
    "linea2 = mi_archivo.readline()\n",
    "print(linea2)\n",
    "\n",
    "linea3 = mi_archivo.readline()\n",
    "print(linea3)\n",
    "\n",
    "mi_archivo.close()"
   ]
  },
  {
   "cell_type": "code",
   "execution_count": 10,
   "metadata": {},
   "outputs": [
    {
     "name": "stdout",
     "output_type": "stream",
     "text": [
      "Hola\n",
      "\n",
      "Soy un archivo de texto\n",
      "\n",
      "Y tengo tres lineas escritas \n"
     ]
    }
   ],
   "source": [
    "# Alternativamente\n",
    "\n",
    "with open('mi_archivo.txt', 'r') as mi_archivo:\n",
    "    linea1 = mi_archivo.readline()\n",
    "    print(linea1)\n",
    "\n",
    "    linea2 = mi_archivo.readline()\n",
    "    print(linea2)\n",
    "\n",
    "    linea3 = mi_archivo.readline()\n",
    "    print(linea3)"
   ]
  },
  {
   "cell_type": "code",
   "execution_count": 15,
   "metadata": {},
   "outputs": [
    {
     "name": "stdout",
     "output_type": "stream",
     "text": [
      "Hola\n",
      "\n",
      "asd\n"
     ]
    }
   ],
   "source": [
    "print(\"Hola\\n\")\n",
    "print(\"asd\")"
   ]
  },
  {
   "cell_type": "markdown",
   "metadata": {},
   "source": [
    "Tambien podemos leer todas las lineas \"de una\" con el metodo ```readlines()```"
   ]
  },
  {
   "cell_type": "code",
   "execution_count": 16,
   "metadata": {},
   "outputs": [
    {
     "name": "stdout",
     "output_type": "stream",
     "text": [
      "['Hola\\n', 'Soy un archivo de texto\\n', 'Y tengo tres lineas escritas ']\n",
      "###########\n",
      "Hola\n",
      "\n",
      "Soy un archivo de texto\n",
      "\n",
      "Y tengo tres lineas escritas \n"
     ]
    }
   ],
   "source": [
    "mi_archivo = open('mi_archivo.txt', 'r')\n",
    "\n",
    "lineas = mi_archivo.readlines()\n",
    "print(lineas)\n",
    "\n",
    "print('###########')\n",
    "\n",
    "for linea in lineas:\n",
    "    print(linea)\n",
    "\n",
    "mi_archivo.close()"
   ]
  },
  {
   "cell_type": "code",
   "execution_count": 18,
   "metadata": {},
   "outputs": [
    {
     "name": "stdout",
     "output_type": "stream",
     "text": [
      "['Hola\\n', 'Soy un archivo de texto\\n', 'Y tengo tres lineas escritas ']\n",
      "Hola\n",
      "\n",
      "Soy un archivo de texto\n",
      "\n",
      "Y tengo tres lineas escritas \n"
     ]
    }
   ],
   "source": [
    "# Alternativamente\n",
    "\n",
    "with open('mi_archivo.txt', 'r') as mi_archivo:\n",
    "    lineas = mi_archivo.readlines()\n",
    "    \n",
    "    print(lineas)\n",
    "    \n",
    "    for linea in lineas:\n",
    "        print(linea)"
   ]
  },
  {
   "cell_type": "markdown",
   "metadata": {},
   "source": [
    "## Escribir archivos"
   ]
  },
  {
   "cell_type": "markdown",
   "metadata": {},
   "source": [
    "Ademas de leer archivos, podemos querer escribir archivos: ya sea crear un archivo nuevo y escribir en el o escribir en un archivo ya existente"
   ]
  },
  {
   "cell_type": "code",
   "execution_count": 19,
   "metadata": {},
   "outputs": [
    {
     "name": "stdout",
     "output_type": "stream",
     "text": [
      "Este es un nuevo archivo\n",
      "\n",
      "uwu\n"
     ]
    }
   ],
   "source": [
    "# Metodo write: archivo que no existe\n",
    "\n",
    "with open('nuevo_archivo.txt', 'w') as mi_archivo:\n",
    "    mi_archivo.write('Este es un nuevo archivo\\n')\n",
    "    mi_archivo.write('uwu')\n",
    "    \n",
    "with open('nuevo_archivo.txt', 'r') as mi_archivo:\n",
    "    lineas = mi_archivo.readlines()\n",
    "    for linea in lineas:\n",
    "        print(linea)"
   ]
  },
  {
   "cell_type": "code",
   "execution_count": 20,
   "metadata": {},
   "outputs": [
    {
     "name": "stdout",
     "output_type": "stream",
     "text": [
      "Escribimos otras cosas \n",
      "\n"
     ]
    }
   ],
   "source": [
    "# Metodo write: que pasa si el archivo ya existe?\n",
    "\n",
    "with open('nuevo_archivo.txt', 'w') as mi_archivo:\n",
    "    mi_archivo.write('Escribimos otras cosas \\n')\n",
    "    \n",
    "with open('nuevo_archivo.txt', 'r') as mi_archivo:\n",
    "    lineas = mi_archivo.readlines()\n",
    "    for linea in lineas:\n",
    "        print(linea)"
   ]
  },
  {
   "cell_type": "markdown",
   "metadata": {},
   "source": [
    "Con el modo write, si el archivo ya existe, al escribir lo estamos sobreescribiendo. Para no sobreescribir, podemos usar el modo append.  "
   ]
  },
  {
   "cell_type": "code",
   "execution_count": 21,
   "metadata": {},
   "outputs": [
    {
     "name": "stdout",
     "output_type": "stream",
     "text": [
      "Escribimos otras cosas \n",
      "\n",
      "Escribimos una nueva linea \n",
      "\n",
      "uwu \n",
      "\n"
     ]
    }
   ],
   "source": [
    "with open('nuevo_archivo.txt', 'a') as mi_archivo:\n",
    "    mi_archivo.write('Escribimos una nueva linea \\nuwu \\n')\n",
    "    \n",
    "with open('nuevo_archivo.txt', 'r') as mi_archivo:\n",
    "    lineas = mi_archivo.readlines()\n",
    "    for linea in lineas:\n",
    "        print(linea)"
   ]
  },
  {
   "cell_type": "markdown",
   "metadata": {},
   "source": [
    "Con append, si el archivo no existe, tambien se crea un archivo nuevo. "
   ]
  },
  {
   "cell_type": "code",
   "execution_count": 22,
   "metadata": {},
   "outputs": [
    {
     "name": "stdout",
     "output_type": "stream",
     "text": [
      "Este es otro archivo mas nuevo aun \n",
      "\n"
     ]
    }
   ],
   "source": [
    "with open('nuevo_archivo_2.txt', 'a') as mi_archivo:\n",
    "    mi_archivo.write('Este es otro archivo mas nuevo aun \\n')\n",
    "    \n",
    "with open('nuevo_archivo_2.txt', 'r') as mi_archivo:\n",
    "    lineas = mi_archivo.readlines()\n",
    "    for linea in lineas:\n",
    "        print(linea)"
   ]
  },
  {
   "cell_type": "markdown",
   "metadata": {},
   "source": [
    "# Ejercicios"
   ]
  },
  {
   "cell_type": "markdown",
   "metadata": {},
   "source": [
    "1. A partir de la lista ```lista_compras``` escriba cada item de la lista en una linea nueva de un archivo llamado ```lista_compras.txt```. "
   ]
  },
  {
   "cell_type": "code",
   "execution_count": 23,
   "metadata": {},
   "outputs": [],
   "source": [
    "lista_compras = [\"papas\", \"arroz\", \"manzanas\"]"
   ]
  },
  {
   "cell_type": "code",
   "execution_count": 29,
   "metadata": {},
   "outputs": [],
   "source": [
    "with open('lista_compras.txt', 'w') as archivo:\n",
    "    for item in lista_compras:\n",
    "        archivo.write(item+'\\n')"
   ]
  },
  {
   "cell_type": "markdown",
   "metadata": {},
   "source": [
    "2. Lea el archivo ```lista_compras.txt``` e imprima solo las lineas que contienen la letra s. "
   ]
  },
  {
   "cell_type": "code",
   "execution_count": 31,
   "metadata": {},
   "outputs": [
    {
     "name": "stdout",
     "output_type": "stream",
     "text": [
      "['papas\\n', 'arroz\\n', 'manzanas\\n']\n",
      "papas\n",
      "\n",
      "manzanas\n",
      "\n"
     ]
    }
   ],
   "source": [
    "mi_archivo = open('lista_compras.txt', 'r')\n",
    "\n",
    "lineas = mi_archivo.readlines()\n",
    "\n",
    "print(lineas)\n",
    "\n",
    "for linea in lineas:\n",
    "    if 's' in linea:\n",
    "        print(linea)\n",
    "\n",
    "mi_archivo.close()"
   ]
  },
  {
   "cell_type": "markdown",
   "metadata": {},
   "source": [
    "3. Para el archivo ```lista_compras.txt``` agregue nuevas lineas de texto al final del documento, que sean las mismas lineas de antes, pero ahora en mayusculas. "
   ]
  },
  {
   "cell_type": "code",
   "execution_count": 32,
   "metadata": {},
   "outputs": [],
   "source": [
    "mi_archivo = open('lista_compras.txt', 'r')\n",
    "\n",
    "lineas = mi_archivo.readlines()\n",
    "\n",
    "mi_archivo.close()\n",
    "\n",
    "mi_archivo = open('lista_compras.txt', 'a')\n",
    "\n",
    "for linea in lineas:\n",
    "    mi_archivo.write(linea.upper())\n",
    "    \n",
    "mi_archivo.close()\n",
    "    "
   ]
  },
  {
   "cell_type": "markdown",
   "metadata": {},
   "source": [
    "4. En el archivo anterior, cambie la segunda linea por un \"Hola\""
   ]
  },
  {
   "cell_type": "code",
   "execution_count": 36,
   "metadata": {},
   "outputs": [
    {
     "data": {
      "text/plain": [
       "['papas\\n', 'arroz\\n', 'manzanas\\n']"
      ]
     },
     "execution_count": 36,
     "metadata": {},
     "output_type": "execute_result"
    }
   ],
   "source": [
    "lineas"
   ]
  },
  {
   "cell_type": "code",
   "execution_count": 37,
   "metadata": {},
   "outputs": [],
   "source": [
    "lineas[1] = \"Hola \\n\""
   ]
  },
  {
   "cell_type": "code",
   "execution_count": 38,
   "metadata": {},
   "outputs": [
    {
     "data": {
      "text/plain": [
       "['papas\\n', 'Hola \\n', 'manzanas\\n']"
      ]
     },
     "execution_count": 38,
     "metadata": {},
     "output_type": "execute_result"
    }
   ],
   "source": [
    "lineas"
   ]
  },
  {
   "cell_type": "code",
   "execution_count": null,
   "metadata": {},
   "outputs": [],
   "source": []
  }
 ],
 "metadata": {
  "kernelspec": {
   "display_name": "Python 3",
   "language": "python",
   "name": "python3"
  },
  "language_info": {
   "codemirror_mode": {
    "name": "ipython",
    "version": 3
   },
   "file_extension": ".py",
   "mimetype": "text/x-python",
   "name": "python",
   "nbconvert_exporter": "python",
   "pygments_lexer": "ipython3",
   "version": "3.8.5"
  }
 },
 "nbformat": 4,
 "nbformat_minor": 4
}
