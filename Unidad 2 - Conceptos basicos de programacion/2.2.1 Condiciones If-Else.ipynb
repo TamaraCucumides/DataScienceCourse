{
 "cells": [
  {
   "cell_type": "markdown",
   "metadata": {},
   "source": [
    "# Control de flujos: condiciones if, elif y else"
   ]
  },
  {
   "cell_type": "markdown",
   "metadata": {},
   "source": [
    "Hasta ahora hemos visto como ejecutar operaciones y asignaciones. Una herramienta muy util de los lenguajes de programacion es poder ejecutar ciertas acciones si se cumple o no alguna condicion. Por ejemplo: podriamos querer hacer un programa que imprima si un numero es o no par. Para hacer esto se utilizan las clausulas If, Elif y Else cuya sintaxis basica en python es:"
   ]
  },
  {
   "cell_type": "code",
   "execution_count": null,
   "metadata": {},
   "outputs": [],
   "source": [
    "if <condicion>:\n",
    "    # acciones a ejecutar si condicion es verdadera (True)"
   ]
  },
  {
   "cell_type": "markdown",
   "metadata": {},
   "source": [
    "Por ejemplo, un programa que imprime si un numero es par: "
   ]
  },
  {
   "cell_type": "code",
   "execution_count": null,
   "metadata": {},
   "outputs": [],
   "source": [
    "num = int(input(\"Escriba un numero: \"))\n",
    "\n",
    "if num%2 == 0:\n",
    "    print(\"El numero ingresado es par\")"
   ]
  },
  {
   "cell_type": "markdown",
   "metadata": {},
   "source": [
    "En el ejemplo, la condicion que estamos chequeando es que `num%2 == 0`. Como ya vimos anteriormente, esta es una expresion booleana que puede tener valores `True` o `False`. El bloque de texto bajo el `if` se ejecutara cuando la condicion tenga valor `True`. "
   ]
  },
  {
   "cell_type": "markdown",
   "metadata": {},
   "source": [
    "## If y else"
   ]
  },
  {
   "cell_type": "markdown",
   "metadata": {},
   "source": [
    "El ejemplo anterior imprimia un mensaje cuando el numero ingresado es par, pero si no era par, no ejecutaba nada. Al combinar las clausulas `if` y `else` podemos manejar que pasa si la condicion se cumple y que pasa si no. La sintaxis basica para utilizar clausulas `if` y `else` es: "
   ]
  },
  {
   "cell_type": "code",
   "execution_count": null,
   "metadata": {},
   "outputs": [],
   "source": [
    "if <condicion>:\n",
    "    # acciones a ejecutar si condicion es verdadera (True)\n",
    "else:\n",
    "    # acciones a ejecutar si condicion es falsa (False) "
   ]
  },
  {
   "cell_type": "code",
   "execution_count": null,
   "metadata": {},
   "outputs": [],
   "source": [
    "num = int(input(\"Escriba un numero: \"))\n",
    "\n",
    "if num%2 == 0:\n",
    "    print(\"El numero ingresado es par\")\n",
    "else:\n",
    "    print(\"El numero ingresado no es par\")"
   ]
  },
  {
   "cell_type": "markdown",
   "metadata": {},
   "source": [
    "## If, elif y else"
   ]
  },
  {
   "cell_type": "markdown",
   "metadata": {},
   "source": [
    "En muchos casos lo que queramos ejecutar no se reduce simplemente al chequeo de una sola condicion. Por ejemplo: supongamos que queremos ..."
   ]
  },
  {
   "cell_type": "code",
   "execution_count": null,
   "metadata": {},
   "outputs": [],
   "source": [
    "if <condicion_1>:\n",
    "    # acciones a ejecutar si condicion_1 es verdadera (True)\n",
    "elif <condicion_2>:\n",
    "    # acciones a ejecutar si condicion_2 es verdadera (True)"
   ]
  },
  {
   "cell_type": "markdown",
   "metadata": {},
   "source": [
    "Tambien podemos combinar clausulas if, elif con else. La sintaxis es la siguiente"
   ]
  },
  {
   "cell_type": "code",
   "execution_count": null,
   "metadata": {},
   "outputs": [],
   "source": [
    "if <condicion_1>:\n",
    "    # acciones a ejecutar si condicion_1 es verdadera (True)\n",
    "elif <condicion_2>:\n",
    "    # acciones a ejecutar si condicion_1 es falsa y condicion_2 es verdadera (True)\n",
    "else:\n",
    "    # acciones a ejecutar si no se cumple condicion_1 ni condicion 2. "
   ]
  },
  {
   "cell_type": "markdown",
   "metadata": {},
   "source": [
    "## Chequear multiples condiciones"
   ]
  },
  {
   "cell_type": "code",
   "execution_count": null,
   "metadata": {},
   "outputs": [],
   "source": [
    "animal = \"perro\"\n",
    "\n",
    "if animal == \"perro\":\n",
    "    print(\"El animal es un perro\")\n",
    "elif animal == \"gato\":\n",
    "    print(\"El animal es un gato\")\n",
    "else:\n",
    "    print(\"El animal no es ni un perro, ni un gato\")"
   ]
  },
  {
   "cell_type": "markdown",
   "metadata": {},
   "source": [
    "## Notas:\n",
    "\n",
    "* Podemos chequear multiples condiciones agrupandolas en una condicion o anidando clausulas\n",
    "* Un if puede ir solo o acompañado de un elif y/o un else\n",
    "* Un elif debe ir acompañado siempre de un if\n",
    "* Un else debe ir acompañado siempre de un if\n",
    "* El else es siempre la ultima clausula"
   ]
  },
  {
   "cell_type": "markdown",
   "metadata": {},
   "source": [
    "# Ejercicios"
   ]
  },
  {
   "cell_type": "markdown",
   "metadata": {},
   "source": [
    "Considere los siguientes datos, correspondientes al LollaPalooza 2022. "
   ]
  },
  {
   "cell_type": "code",
   "execution_count": null,
   "metadata": {},
   "outputs": [],
   "source": [
    "datos_lolla = {\"lugar\": 'Conchali', \n",
    "              \"fechas\": [\"18-03-2023\", \"19-03-2023\", \"20-03-2023\"], \n",
    "              \"artistas_dia_1\": [\"Foo Fighters\",\n",
    "                                \"Martin Garrix\",\n",
    "                                \"Jhay Cortez\"],\n",
    "              \"artistas_dia_2\": [\"Miley Cyrus\",\n",
    "                                \"A$AP ROCKY\",\n",
    "                                \"Alesso\"],\n",
    "              \"artistas_dia_3\": [\"The Strokes\",\n",
    "                                \"Doja Cat\",\n",
    "                                \"Machine Gun Kelly\"],\n",
    "              \"precio_pase_diario\": 70000,\n",
    "              \"precio_tres_dias\": 150000}"
   ]
  },
  {
   "cell_type": "markdown",
   "metadata": {},
   "source": [
    "1. Escriba un programa que chequee si Miley Cyrus estará en el primer dia del Lollapalooza. Imprima: Si o No según corresponda"
   ]
  },
  {
   "cell_type": "code",
   "execution_count": null,
   "metadata": {},
   "outputs": [],
   "source": [
    "# Solucion 1"
   ]
  },
  {
   "cell_type": "markdown",
   "metadata": {},
   "source": [
    "2. Escriba un programa que chequee si Miley Cyrus estará en algún dia del Lollapalooza. Imprima Si o No según corresponda. "
   ]
  },
  {
   "cell_type": "code",
   "execution_count": null,
   "metadata": {},
   "outputs": [],
   "source": [
    "# Solucion 2"
   ]
  },
  {
   "cell_type": "markdown",
   "metadata": {},
   "source": [
    "3. Considere la variable `mi_cuenta`definida en la linea siguiente que representa su cuenta bancaria. Escriba un programa que imprima si le alcanza o no para comprar el pase a los tres dias del lollapalooza. Si no alcanza, revise e imprima si alcanza para un pase diario. Si tampoco alcanza, imprima que los fondos son insuficientes "
   ]
  },
  {
   "cell_type": "code",
   "execution_count": null,
   "metadata": {},
   "outputs": [],
   "source": [
    "mi_cuenta = 40000"
   ]
  },
  {
   "cell_type": "code",
   "execution_count": null,
   "metadata": {},
   "outputs": [],
   "source": [
    "# Solucion 3"
   ]
  },
  {
   "cell_type": "markdown",
   "metadata": {},
   "source": [
    "4. Escriba un programa que reciba el nombre de un artista y retorne el dia en que estara en el Lollapalooza. Si no estará en ninguno, imprima un mensaje que diga eso "
   ]
  },
  {
   "cell_type": "code",
   "execution_count": null,
   "metadata": {},
   "outputs": [],
   "source": [
    "# Solucion 4"
   ]
  },
  {
   "cell_type": "code",
   "execution_count": null,
   "metadata": {},
   "outputs": [],
   "source": []
  }
 ],
 "metadata": {
  "kernelspec": {
   "display_name": "Python 3",
   "language": "python",
   "name": "python3"
  },
  "language_info": {
   "codemirror_mode": {
    "name": "ipython",
    "version": 3
   },
   "file_extension": ".py",
   "mimetype": "text/x-python",
   "name": "python",
   "nbconvert_exporter": "python",
   "pygments_lexer": "ipython3",
   "version": "3.8.5"
  }
 },
 "nbformat": 4,
 "nbformat_minor": 4
}
