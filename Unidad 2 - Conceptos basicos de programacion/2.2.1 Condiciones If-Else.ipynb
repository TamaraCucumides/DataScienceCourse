{
 "cells": [
  {
   "cell_type": "markdown",
   "metadata": {},
   "source": [
    "# Control de flujos: condiciones if, elif y else"
   ]
  },
  {
   "cell_type": "markdown",
   "metadata": {},
   "source": [
    "Hasta ahora hemos visto como ejecutar operaciones y asignaciones. Una herramienta muy util de los lenguajes de programacion es poder ejecutar ciertas acciones si se cumple o no alguna condicion. Por ejemplo: podriamos querer hacer un programa que imprima si un numero es o no par. Para hacer esto se utilizan las clausulas If, Elif y Else cuya sintaxis basica en python es:"
   ]
  },
  {
   "cell_type": "code",
   "execution_count": null,
   "metadata": {},
   "outputs": [],
   "source": [
    "if <condicion>:\n",
    "    # acciones a ejecutar si condicion es verdadera (True)"
   ]
  },
  {
   "cell_type": "markdown",
   "metadata": {},
   "source": [
    "Por ejemplo, un programa que imprime si un numero es par: "
   ]
  },
  {
   "cell_type": "code",
   "execution_count": 6,
   "metadata": {},
   "outputs": [
    {
     "name": "stdout",
     "output_type": "stream",
     "text": [
      "Escriba un numero: 4\n",
      "El numero ingresado es par\n"
     ]
    }
   ],
   "source": [
    "num = int(input(\"Escriba un numero: \"))\n",
    "\n",
    "if num%2 == 0:\n",
    "    print(\"El numero ingresado es par\")"
   ]
  },
  {
   "cell_type": "markdown",
   "metadata": {},
   "source": [
    "En el ejemplo, la condicion que estamos chequeando es que `num%2 == 0`. Como ya vimos anteriormente, esta es una expresion booleana que puede tener valores `True` o `False`. El bloque de texto bajo el `if` se ejecutara cuando la condicion tenga valor `True`. "
   ]
  },
  {
   "cell_type": "markdown",
   "metadata": {},
   "source": [
    "## If y else"
   ]
  },
  {
   "cell_type": "markdown",
   "metadata": {},
   "source": [
    "El ejemplo anterior imprimia un mensaje cuando el numero ingresado es par, pero si no era par, no ejecutaba nada. Al combinar las clausulas `if` y `else` podemos manejar que pasa si la condicion se cumple y que pasa si no. La sintaxis basica para utilizar clausulas `if` y `else` es: "
   ]
  },
  {
   "cell_type": "code",
   "execution_count": null,
   "metadata": {},
   "outputs": [],
   "source": [
    "if <condicion>:\n",
    "    # acciones a ejecutar si condicion es verdadera (True)\n",
    "else:\n",
    "    # acciones a ejecutar si condicion es falsa (False) "
   ]
  },
  {
   "cell_type": "code",
   "execution_count": 8,
   "metadata": {},
   "outputs": [
    {
     "name": "stdout",
     "output_type": "stream",
     "text": [
      "Escriba un numero: 7\n",
      "El numero ingresado no es par\n"
     ]
    }
   ],
   "source": [
    "num = int(input(\"Escriba un numero: \"))\n",
    "\n",
    "if num%2 == 0:\n",
    "    print(\"El numero ingresado es par\")\n",
    "else:\n",
    "    print(\"El numero ingresado no es par\")"
   ]
  },
  {
   "cell_type": "markdown",
   "metadata": {},
   "source": [
    "## If, elif y else"
   ]
  },
  {
   "cell_type": "markdown",
   "metadata": {},
   "source": [
    "En muchos casos lo que queramos ejecutar no se reduce simplemente al chequeo de una sola condicion. Por ejemplo: supongamos que queremos ..."
   ]
  },
  {
   "cell_type": "code",
   "execution_count": null,
   "metadata": {},
   "outputs": [],
   "source": [
    "if <condicion_1>:\n",
    "    # acciones a ejecutar si condicion_1 es verdadera (True)\n",
    "elif <condicion_2>:\n",
    "    # acciones a ejecutar si condicion_2 es verdadera (True)"
   ]
  },
  {
   "cell_type": "markdown",
   "metadata": {},
   "source": [
    "Tambien podemos combinar clausulas if, elif con else. La sintaxis es la siguiente"
   ]
  },
  {
   "cell_type": "code",
   "execution_count": null,
   "metadata": {},
   "outputs": [],
   "source": [
    "if <condicion_1>:\n",
    "    # acciones a ejecutar si condicion_1 es verdadera (True)\n",
    "elif <condicion_2>:\n",
    "    # acciones a ejecutar si condicion_1 es falsa y condicion_2 es verdadera (True)\n",
    "else:\n",
    "    # acciones a ejecutar si no se cumple condicion_1 ni condicion 2. "
   ]
  },
  {
   "cell_type": "markdown",
   "metadata": {},
   "source": [
    "## Chequear multiples condiciones"
   ]
  },
  {
   "cell_type": "code",
   "execution_count": null,
   "metadata": {},
   "outputs": [],
   "source": []
  },
  {
   "cell_type": "markdown",
   "metadata": {},
   "source": [
    "## Notas:\n",
    "\n",
    "* Podemos chequear multiples condiciones agrupandolas en una condicion o anidando clausulas\n",
    "* Un if puede ir solo o acompañado de un elif y/o un else\n",
    "* Un elif debe ir acompañado siempre de un if\n",
    "* Un else debe ir acompañado siempre de un if\n",
    "* El else es siempre la ultima clausula"
   ]
  },
  {
   "cell_type": "markdown",
   "metadata": {},
   "source": [
    "# Ejercicios"
   ]
  },
  {
   "cell_type": "code",
   "execution_count": null,
   "metadata": {},
   "outputs": [],
   "source": []
  }
 ],
 "metadata": {
  "kernelspec": {
   "display_name": "Python 3",
   "language": "python",
   "name": "python3"
  },
  "language_info": {
   "codemirror_mode": {
    "name": "ipython",
    "version": 3
   },
   "file_extension": ".py",
   "mimetype": "text/x-python",
   "name": "python",
   "nbconvert_exporter": "python",
   "pygments_lexer": "ipython3",
   "version": "3.9.0"
  }
 },
 "nbformat": 4,
 "nbformat_minor": 4
}
