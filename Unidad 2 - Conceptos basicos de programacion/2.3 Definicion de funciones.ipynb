{
 "cells": [
  {
   "cell_type": "markdown",
   "metadata": {},
   "source": [
    "# Definicion de funciones"
   ]
  },
  {
   "cell_type": "markdown",
   "metadata": {},
   "source": [
    "Ya hemos visto las estructuras y operaciones basicas, junto a sistemas de control de flujo que nos permiten controlar cuando y/o cuantas veces se ejecuta qué parte del codigo. \n",
    "\n",
    "Ademas del control de flujo, un elemento muy importante en programacion es la definicion de funciones. Una funcion es un bloque de codigo que se ejecuta cuando es llamado."
   ]
  },
  {
   "cell_type": "code",
   "execution_count": 1,
   "metadata": {},
   "outputs": [],
   "source": [
    "# Estructura basica de una funcion \n",
    "# Para definir una funcion usamos el keyword def\n",
    "\n",
    "def my_function():\n",
    "    print(\"Hello from a function\")"
   ]
  },
  {
   "cell_type": "markdown",
   "metadata": {},
   "source": [
    "El bloque de codigo anterior es la definicion de la funcion \"my_function\". Dentro de la definicion se encuentra el codigo que ha de ser ejecutado cuando se llama, en este caso, imprime un mensaje. Notemos que al ejecutar la celda anterior, el codigo dentro de la definicion no se ejecuta. Para ejecutar la funcion, debemos llamarla de la siguiente forma: "
   ]
  },
  {
   "cell_type": "code",
   "execution_count": 2,
   "metadata": {},
   "outputs": [
    {
     "name": "stdout",
     "output_type": "stream",
     "text": [
      "Hello from a function\n"
     ]
    }
   ],
   "source": [
    "my_function()"
   ]
  },
  {
   "cell_type": "markdown",
   "metadata": {},
   "source": [
    "Las funciones pueden tener argumentos, que se especifican en la definicion de la funcion dentro de los parentesis. En el caso de la funcion my_function, esta no tiene ningun argumento. Los argumentos sirven para pasar variables a la funcion. Veamos un ejemplo: "
   ]
  },
  {
   "cell_type": "code",
   "execution_count": 3,
   "metadata": {},
   "outputs": [],
   "source": [
    "def my_function_name(name):\n",
    "    print(\"Hello\", name)"
   ]
  },
  {
   "cell_type": "code",
   "execution_count": 4,
   "metadata": {},
   "outputs": [
    {
     "name": "stdout",
     "output_type": "stream",
     "text": [
      "Hello Tamara\n",
      "Hello Lucas\n"
     ]
    }
   ],
   "source": [
    "my_function_name(\"Tamara\")\n",
    "my_function_name(\"Lucas\")"
   ]
  },
  {
   "cell_type": "markdown",
   "metadata": {},
   "source": [
    "Como mencionamos antes, las funciones pueden tener multiples argumentos. Por ejemplo, hagamos una funcion que suma dos numeros: "
   ]
  },
  {
   "cell_type": "code",
   "execution_count": 5,
   "metadata": {},
   "outputs": [],
   "source": [
    "def suma(a,b):\n",
    "    print(a+b)"
   ]
  },
  {
   "cell_type": "code",
   "execution_count": 8,
   "metadata": {},
   "outputs": [
    {
     "name": "stdout",
     "output_type": "stream",
     "text": [
      "3\n",
      "20\n",
      "8\n"
     ]
    }
   ],
   "source": [
    "suma(1,2)\n",
    "suma(10,10)\n",
    "suma(5,3)"
   ]
  },
  {
   "cell_type": "markdown",
   "metadata": {},
   "source": [
    "Nuestras funciones pueden realizar distintas operaciones dentro de si:"
   ]
  },
  {
   "cell_type": "code",
   "execution_count": 9,
   "metadata": {},
   "outputs": [],
   "source": [
    "def operaciones(nombre,a,b):\n",
    "    print(\"Hola\", nombre)\n",
    "    print(\"La suma de los numeros que ingresaste es:\", a+b)\n",
    "    print(\"La multiplicacion de los numeros que ingresaste es:\", a*b)"
   ]
  },
  {
   "cell_type": "code",
   "execution_count": 10,
   "metadata": {},
   "outputs": [
    {
     "name": "stdout",
     "output_type": "stream",
     "text": [
      "Hola Tamara\n",
      "La suma de los numeros que ingresaste es: 12\n",
      "La multiplicacion de los numeros que ingresaste es: 35\n"
     ]
    }
   ],
   "source": [
    "operaciones(\"Tamara\", 5, 7)"
   ]
  },
  {
   "cell_type": "markdown",
   "metadata": {},
   "source": [
    "En los casos anteriores nuestras funciones solo han imprimido cosas. Una funcion tambien puede retornar un valor que podemos guardar en una variable. En el momento que una funcion retorna un valor, deja de ejecutarse. "
   ]
  },
  {
   "cell_type": "code",
   "execution_count": 11,
   "metadata": {},
   "outputs": [],
   "source": [
    "def return_function(value):\n",
    "    return value*5"
   ]
  },
  {
   "cell_type": "code",
   "execution_count": 13,
   "metadata": {},
   "outputs": [],
   "source": [
    "a = return_function(5)"
   ]
  },
  {
   "cell_type": "code",
   "execution_count": 14,
   "metadata": {},
   "outputs": [
    {
     "data": {
      "text/plain": [
       "25"
      ]
     },
     "execution_count": 14,
     "metadata": {},
     "output_type": "execute_result"
    }
   ],
   "source": [
    "a"
   ]
  },
  {
   "cell_type": "markdown",
   "metadata": {},
   "source": [
    "Una funcion tambien puede llamar en su cuerpo a otras funciones: "
   ]
  },
  {
   "cell_type": "code",
   "execution_count": 22,
   "metadata": {},
   "outputs": [],
   "source": [
    "def get_largest(string1, string2):\n",
    "    if len(string1) > len(string2):\n",
    "        return string1\n",
    "    else:\n",
    "        return string2\n",
    "\n",
    "def get_shortest(string1, string2):\n",
    "    if len(string1) < len(string2):\n",
    "        return string1\n",
    "    else:\n",
    "        return string2\n",
    "\n"
   ]
  },
  {
   "cell_type": "code",
   "execution_count": 23,
   "metadata": {},
   "outputs": [
    {
     "data": {
      "text/plain": [
       "'tamara'"
      ]
     },
     "execution_count": 23,
     "metadata": {},
     "output_type": "execute_result"
    }
   ],
   "source": [
    "get_largest('tamara', 'pablo')"
   ]
  },
  {
   "cell_type": "code",
   "execution_count": 24,
   "metadata": {},
   "outputs": [
    {
     "data": {
      "text/plain": [
       "'pablo'"
      ]
     },
     "execution_count": 24,
     "metadata": {},
     "output_type": "execute_result"
    }
   ],
   "source": [
    "get_shortest('tamara', 'pablo')"
   ]
  },
  {
   "cell_type": "code",
   "execution_count": 31,
   "metadata": {},
   "outputs": [],
   "source": [
    "def choose(pick, string1, string2):\n",
    "    if pick==\"largest\":\n",
    "        return get_largest(string1, string2)\n",
    "    elif pick=='shortest':\n",
    "        return get_shortest(string1, string2)\n",
    "    else:\n",
    "        print(\"Error: invalid pick\")"
   ]
  },
  {
   "cell_type": "code",
   "execution_count": 32,
   "metadata": {},
   "outputs": [
    {
     "name": "stdout",
     "output_type": "stream",
     "text": [
      "Federico\n"
     ]
    }
   ],
   "source": [
    "value = choose('largest', 'Tamara', 'Federico')\n",
    "print(value)"
   ]
  },
  {
   "cell_type": "code",
   "execution_count": 34,
   "metadata": {},
   "outputs": [
    {
     "data": {
      "text/plain": [
       "'pablo'"
      ]
     },
     "execution_count": 34,
     "metadata": {},
     "output_type": "execute_result"
    }
   ],
   "source": [
    "choose('shortest', 'Tamara', 'pablo')"
   ]
  },
  {
   "cell_type": "code",
   "execution_count": 35,
   "metadata": {},
   "outputs": [
    {
     "name": "stdout",
     "output_type": "stream",
     "text": [
      "Error: invalid pick\n"
     ]
    }
   ],
   "source": [
    "choose('Hola', 'Tamara', 'pablo')"
   ]
  },
  {
   "cell_type": "markdown",
   "metadata": {},
   "source": [
    "## Ejercicios"
   ]
  },
  {
   "cell_type": "code",
   "execution_count": null,
   "metadata": {},
   "outputs": [],
   "source": []
  }
 ],
 "metadata": {
  "kernelspec": {
   "display_name": "Python 3",
   "language": "python",
   "name": "python3"
  },
  "language_info": {
   "codemirror_mode": {
    "name": "ipython",
    "version": 3
   },
   "file_extension": ".py",
   "mimetype": "text/x-python",
   "name": "python",
   "nbconvert_exporter": "python",
   "pygments_lexer": "ipython3",
   "version": "3.9.0"
  }
 },
 "nbformat": 4,
 "nbformat_minor": 4
}
