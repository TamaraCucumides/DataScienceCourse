{
 "cells": [
  {
   "cell_type": "markdown",
   "metadata": {
    "id": "NLRhiJqPUx4m"
   },
   "source": [
    "#Taller Python MIA\n",
    "## Sesión 1: Numpy y Pandas"
   ]
  },
  {
   "cell_type": "markdown",
   "metadata": {
    "id": "p28enohZVJBQ"
   },
   "source": [
    "## Numpy\n",
    "NumPy is the fundamental package for scientific computing in Python. It is a Python library that provides a multidimensional array object, various derived objects (such as masked arrays and matrices), and an assortment of routines for fast operations on arrays, including mathematical, logical, shape manipulation, sorting, selecting, I/O, discrete Fourier transforms, basic linear algebra, basic statistical operations, random simulation and much more."
   ]
  },
  {
   "cell_type": "code",
   "execution_count": null,
   "metadata": {
    "executionInfo": {
     "elapsed": 234,
     "status": "ok",
     "timestamp": 1622899804180,
     "user": {
      "displayName": "Tamara Alexandra Cucumides",
      "photoUrl": "https://lh3.googleusercontent.com/-JaOi0yPHfYA/AAAAAAAAAAI/AAAAAAAAACY/KE7Nc9J31IA/s64/photo.jpg",
      "userId": "05111604239416667263"
     },
     "user_tz": 240
    },
    "id": "63gnrE4rUcPh"
   },
   "outputs": [],
   "source": [
    "import numpy as np"
   ]
  },
  {
   "cell_type": "code",
   "execution_count": null,
   "metadata": {
    "colab": {
     "base_uri": "https://localhost:8080/"
    },
    "executionInfo": {
     "elapsed": 229,
     "status": "ok",
     "timestamp": 1622899824382,
     "user": {
      "displayName": "Tamara Alexandra Cucumides",
      "photoUrl": "https://lh3.googleusercontent.com/-JaOi0yPHfYA/AAAAAAAAAAI/AAAAAAAAACY/KE7Nc9J31IA/s64/photo.jpg",
      "userId": "05111604239416667263"
     },
     "user_tz": 240
    },
    "id": "0V8x8qcWVgA0",
    "outputId": "e66a1c25-477e-426d-b56a-b7d10eda2fbe"
   },
   "outputs": [],
   "source": [
    "a = [1,1,1]\n",
    "b = [5,2,4]\n",
    "\n",
    "c = np.array([1,1,1])\n",
    "d = np.array([5,2,4])\n",
    "\n",
    "print(a+b)\n",
    "print(c+d)"
   ]
  },
  {
   "cell_type": "code",
   "execution_count": null,
   "metadata": {
    "colab": {
     "base_uri": "https://localhost:8080/"
    },
    "executionInfo": {
     "elapsed": 230,
     "status": "ok",
     "timestamp": 1622899860201,
     "user": {
      "displayName": "Tamara Alexandra Cucumides",
      "photoUrl": "https://lh3.googleusercontent.com/-JaOi0yPHfYA/AAAAAAAAAAI/AAAAAAAAACY/KE7Nc9J31IA/s64/photo.jpg",
      "userId": "05111604239416667263"
     },
     "user_tz": 240
    },
    "id": "qy451Dh-fsfP",
    "outputId": "834f525f-7897-4c22-fa91-7f960b73799f"
   },
   "outputs": [],
   "source": [
    "print(c*d)"
   ]
  },
  {
   "cell_type": "markdown",
   "metadata": {
    "id": "wOPZqNMsXKSA"
   },
   "source": [
    "## Algebra lineal en numpy"
   ]
  },
  {
   "cell_type": "code",
   "execution_count": null,
   "metadata": {
    "executionInfo": {
     "elapsed": 381,
     "status": "ok",
     "timestamp": 1622899931795,
     "user": {
      "displayName": "Tamara Alexandra Cucumides",
      "photoUrl": "https://lh3.googleusercontent.com/-JaOi0yPHfYA/AAAAAAAAAAI/AAAAAAAAACY/KE7Nc9J31IA/s64/photo.jpg",
      "userId": "05111604239416667263"
     },
     "user_tz": 240
    },
    "id": "kVbWEUpS5kID"
   },
   "outputs": [],
   "source": [
    "## Operaciones con vectores\n",
    "\n",
    "v1 = np.array([5,8,12])\n",
    "v2 = np.array([3,7,1])"
   ]
  },
  {
   "cell_type": "code",
   "execution_count": null,
   "metadata": {
    "colab": {
     "base_uri": "https://localhost:8080/"
    },
    "executionInfo": {
     "elapsed": 252,
     "status": "ok",
     "timestamp": 1622899945401,
     "user": {
      "displayName": "Tamara Alexandra Cucumides",
      "photoUrl": "https://lh3.googleusercontent.com/-JaOi0yPHfYA/AAAAAAAAAAI/AAAAAAAAACY/KE7Nc9J31IA/s64/photo.jpg",
      "userId": "05111604239416667263"
     },
     "user_tz": 240
    },
    "id": "KuQT1qKAf-02",
    "outputId": "ab38e1d2-ed4b-4e5a-f5d8-740e90b94365"
   },
   "outputs": [],
   "source": [
    "# Suma de vectores\n",
    "print(v1+v2)\n",
    "# Producto punto\n",
    "print(np.dot(v1, v2)) #alternativa v1@v2\n",
    "# Igualdad entre vectores\n",
    "print(v1 == v2)\n",
    "print(v1 > v2)\n",
    "# Producto cruz\n",
    "print(np.cross(v1,v2))\n",
    "print(np.cross(v2,v1))"
   ]
  },
  {
   "cell_type": "code",
   "execution_count": null,
   "metadata": {
    "executionInfo": {
     "elapsed": 270,
     "status": "ok",
     "timestamp": 1622900141346,
     "user": {
      "displayName": "Tamara Alexandra Cucumides",
      "photoUrl": "https://lh3.googleusercontent.com/-JaOi0yPHfYA/AAAAAAAAAAI/AAAAAAAAACY/KE7Nc9J31IA/s64/photo.jpg",
      "userId": "05111604239416667263"
     },
     "user_tz": 240
    },
    "id": "zoioA-HlYpsg"
   },
   "outputs": [],
   "source": [
    "v1_x = np.array([[5,8,12]])"
   ]
  },
  {
   "cell_type": "code",
   "execution_count": null,
   "metadata": {
    "colab": {
     "base_uri": "https://localhost:8080/"
    },
    "executionInfo": {
     "elapsed": 226,
     "status": "ok",
     "timestamp": 1622900158616,
     "user": {
      "displayName": "Tamara Alexandra Cucumides",
      "photoUrl": "https://lh3.googleusercontent.com/-JaOi0yPHfYA/AAAAAAAAAAI/AAAAAAAAACY/KE7Nc9J31IA/s64/photo.jpg",
      "userId": "05111604239416667263"
     },
     "user_tz": 240
    },
    "id": "Cr6w9eIjYe70",
    "outputId": "c2bc47d1-435b-44a0-8b81-370e09adc6c4"
   },
   "outputs": [],
   "source": [
    "print(v1_x.shape)\n",
    "print(v1.shape)"
   ]
  },
  {
   "cell_type": "code",
   "execution_count": null,
   "metadata": {
    "colab": {
     "base_uri": "https://localhost:8080/"
    },
    "executionInfo": {
     "elapsed": 226,
     "status": "ok",
     "timestamp": 1622900183614,
     "user": {
      "displayName": "Tamara Alexandra Cucumides",
      "photoUrl": "https://lh3.googleusercontent.com/-JaOi0yPHfYA/AAAAAAAAAAI/AAAAAAAAACY/KE7Nc9J31IA/s64/photo.jpg",
      "userId": "05111604239416667263"
     },
     "user_tz": 240
    },
    "id": "83wthzgiY21t",
    "outputId": "108fdbc9-7350-4ae3-fe04-454aecd10448"
   },
   "outputs": [],
   "source": [
    "v1_x.T.shape"
   ]
  },
  {
   "cell_type": "code",
   "execution_count": null,
   "metadata": {
    "colab": {
     "base_uri": "https://localhost:8080/"
    },
    "executionInfo": {
     "elapsed": 243,
     "status": "ok",
     "timestamp": 1622900214514,
     "user": {
      "displayName": "Tamara Alexandra Cucumides",
      "photoUrl": "https://lh3.googleusercontent.com/-JaOi0yPHfYA/AAAAAAAAAAI/AAAAAAAAACY/KE7Nc9J31IA/s64/photo.jpg",
      "userId": "05111604239416667263"
     },
     "user_tz": 240
    },
    "id": "NN2CybSXY56O",
    "outputId": "be6de125-8e11-4b32-dc55-b4c7b99ee8d7"
   },
   "outputs": [],
   "source": [
    "print(v1.T.shape)\n",
    "v1.shape == v1.T.shape"
   ]
  },
  {
   "cell_type": "code",
   "execution_count": null,
   "metadata": {
    "executionInfo": {
     "elapsed": 255,
     "status": "ok",
     "timestamp": 1622900360868,
     "user": {
      "displayName": "Tamara Alexandra Cucumides",
      "photoUrl": "https://lh3.googleusercontent.com/-JaOi0yPHfYA/AAAAAAAAAAI/AAAAAAAAACY/KE7Nc9J31IA/s64/photo.jpg",
      "userId": "05111604239416667263"
     },
     "user_tz": 240
    },
    "id": "ZJdLev7Y5l-D"
   },
   "outputs": [],
   "source": [
    "## Operaciones con matrices\n",
    "\n",
    "mat1 = np.array([[1,2,3], [4,5,6], [0,1,1]])"
   ]
  },
  {
   "cell_type": "code",
   "execution_count": null,
   "metadata": {
    "colab": {
     "base_uri": "https://localhost:8080/"
    },
    "executionInfo": {
     "elapsed": 247,
     "status": "ok",
     "timestamp": 1622900365072,
     "user": {
      "displayName": "Tamara Alexandra Cucumides",
      "photoUrl": "https://lh3.googleusercontent.com/-JaOi0yPHfYA/AAAAAAAAAAI/AAAAAAAAACY/KE7Nc9J31IA/s64/photo.jpg",
      "userId": "05111604239416667263"
     },
     "user_tz": 240
    },
    "id": "-OZRkXQzZk0y",
    "outputId": "b0bab4e0-4710-4301-e289-dd8c458d3768"
   },
   "outputs": [],
   "source": [
    "mat1"
   ]
  },
  {
   "cell_type": "code",
   "execution_count": null,
   "metadata": {
    "executionInfo": {
     "elapsed": 247,
     "status": "ok",
     "timestamp": 1622900400094,
     "user": {
      "displayName": "Tamara Alexandra Cucumides",
      "photoUrl": "https://lh3.googleusercontent.com/-JaOi0yPHfYA/AAAAAAAAAAI/AAAAAAAAACY/KE7Nc9J31IA/s64/photo.jpg",
      "userId": "05111604239416667263"
     },
     "user_tz": 240
    },
    "id": "NF1PToLcZrrX"
   },
   "outputs": [],
   "source": [
    "mat7 = np.array([[1,2], [4,5], [0,1]])"
   ]
  },
  {
   "cell_type": "code",
   "execution_count": null,
   "metadata": {
    "colab": {
     "base_uri": "https://localhost:8080/"
    },
    "executionInfo": {
     "elapsed": 277,
     "status": "ok",
     "timestamp": 1622900379058,
     "user": {
      "displayName": "Tamara Alexandra Cucumides",
      "photoUrl": "https://lh3.googleusercontent.com/-JaOi0yPHfYA/AAAAAAAAAAI/AAAAAAAAACY/KE7Nc9J31IA/s64/photo.jpg",
      "userId": "05111604239416667263"
     },
     "user_tz": 240
    },
    "id": "dDKGa2Z3izAZ",
    "outputId": "d65c5703-09fb-421d-d421-bc7a7f449bc9"
   },
   "outputs": [],
   "source": [
    "mat1.shape"
   ]
  },
  {
   "cell_type": "code",
   "execution_count": null,
   "metadata": {
    "colab": {
     "base_uri": "https://localhost:8080/"
    },
    "executionInfo": {
     "elapsed": 241,
     "status": "ok",
     "timestamp": 1622900414862,
     "user": {
      "displayName": "Tamara Alexandra Cucumides",
      "photoUrl": "https://lh3.googleusercontent.com/-JaOi0yPHfYA/AAAAAAAAAAI/AAAAAAAAACY/KE7Nc9J31IA/s64/photo.jpg",
      "userId": "05111604239416667263"
     },
     "user_tz": 240
    },
    "id": "HSJs0799Zw9T",
    "outputId": "611b1467-aab7-4dad-b218-109a858ea650"
   },
   "outputs": [],
   "source": [
    "mat7"
   ]
  },
  {
   "cell_type": "code",
   "execution_count": null,
   "metadata": {
    "colab": {
     "base_uri": "https://localhost:8080/"
    },
    "executionInfo": {
     "elapsed": 228,
     "status": "ok",
     "timestamp": 1622900405579,
     "user": {
      "displayName": "Tamara Alexandra Cucumides",
      "photoUrl": "https://lh3.googleusercontent.com/-JaOi0yPHfYA/AAAAAAAAAAI/AAAAAAAAACY/KE7Nc9J31IA/s64/photo.jpg",
      "userId": "05111604239416667263"
     },
     "user_tz": 240
    },
    "id": "Wc0IyI1EZufp",
    "outputId": "36951572-4af3-446c-fb81-c0f857e3293c"
   },
   "outputs": [],
   "source": [
    "mat7.shape"
   ]
  },
  {
   "cell_type": "code",
   "execution_count": null,
   "metadata": {
    "colab": {
     "base_uri": "https://localhost:8080/"
    },
    "executionInfo": {
     "elapsed": 274,
     "status": "ok",
     "timestamp": 1622900451027,
     "user": {
      "displayName": "Tamara Alexandra Cucumides",
      "photoUrl": "https://lh3.googleusercontent.com/-JaOi0yPHfYA/AAAAAAAAAAI/AAAAAAAAACY/KE7Nc9J31IA/s64/photo.jpg",
      "userId": "05111604239416667263"
     },
     "user_tz": 240
    },
    "id": "qqcjfxtoZ0-c",
    "outputId": "91dbc2d9-8ce1-4b69-e241-bbe43738a6e9"
   },
   "outputs": [],
   "source": [
    "mat8 = np.array([[1,2], [4,5,6], [0,1]])"
   ]
  },
  {
   "cell_type": "code",
   "execution_count": null,
   "metadata": {
    "colab": {
     "base_uri": "https://localhost:8080/"
    },
    "executionInfo": {
     "elapsed": 253,
     "status": "ok",
     "timestamp": 1622900507026,
     "user": {
      "displayName": "Tamara Alexandra Cucumides",
      "photoUrl": "https://lh3.googleusercontent.com/-JaOi0yPHfYA/AAAAAAAAAAI/AAAAAAAAACY/KE7Nc9J31IA/s64/photo.jpg",
      "userId": "05111604239416667263"
     },
     "user_tz": 240
    },
    "id": "SUgC5hh1i1WE",
    "outputId": "89dfa123-fa5d-43a7-b5d8-cdff344708ff"
   },
   "outputs": [],
   "source": [
    "print(mat1)"
   ]
  },
  {
   "cell_type": "code",
   "execution_count": null,
   "metadata": {
    "colab": {
     "base_uri": "https://localhost:8080/"
    },
    "executionInfo": {
     "elapsed": 233,
     "status": "ok",
     "timestamp": 1622900508466,
     "user": {
      "displayName": "Tamara Alexandra Cucumides",
      "photoUrl": "https://lh3.googleusercontent.com/-JaOi0yPHfYA/AAAAAAAAAAI/AAAAAAAAACY/KE7Nc9J31IA/s64/photo.jpg",
      "userId": "05111604239416667263"
     },
     "user_tz": 240
    },
    "id": "Y3de2ToBjHD3",
    "outputId": "c6bc9ccc-d4af-4193-bc0c-2eae76b0ae9f"
   },
   "outputs": [],
   "source": [
    "# Transponer una matriz\n",
    "print(mat1.T)"
   ]
  },
  {
   "cell_type": "code",
   "execution_count": null,
   "metadata": {
    "colab": {
     "base_uri": "https://localhost:8080/"
    },
    "executionInfo": {
     "elapsed": 251,
     "status": "ok",
     "timestamp": 1622900525720,
     "user": {
      "displayName": "Tamara Alexandra Cucumides",
      "photoUrl": "https://lh3.googleusercontent.com/-JaOi0yPHfYA/AAAAAAAAAAI/AAAAAAAAACY/KE7Nc9J31IA/s64/photo.jpg",
      "userId": "05111604239416667263"
     },
     "user_tz": 240
    },
    "id": "q4ILkXAJi33H",
    "outputId": "b6e854eb-4390-4baf-c3eb-83a1c118e557"
   },
   "outputs": [],
   "source": [
    "mat2 = np.array([[1,2,5],[5,7,7]])\n",
    "print(mat2.shape)"
   ]
  },
  {
   "cell_type": "code",
   "execution_count": null,
   "metadata": {
    "colab": {
     "base_uri": "https://localhost:8080/",
     "height": 207
    },
    "executionInfo": {
     "elapsed": 230,
     "status": "error",
     "timestamp": 1622900554225,
     "user": {
      "displayName": "Tamara Alexandra Cucumides",
      "photoUrl": "https://lh3.googleusercontent.com/-JaOi0yPHfYA/AAAAAAAAAAI/AAAAAAAAACY/KE7Nc9J31IA/s64/photo.jpg",
      "userId": "05111604239416667263"
     },
     "user_tz": 240
    },
    "id": "LxvHAyGQjC6V",
    "outputId": "6dbda2ea-45be-4abf-f93c-513eb7abb81d"
   },
   "outputs": [],
   "source": [
    "print(np.dot(mat1,mat2))"
   ]
  },
  {
   "cell_type": "code",
   "execution_count": null,
   "metadata": {
    "colab": {
     "base_uri": "https://localhost:8080/"
    },
    "executionInfo": {
     "elapsed": 433,
     "status": "ok",
     "timestamp": 1622900643583,
     "user": {
      "displayName": "Tamara Alexandra Cucumides",
      "photoUrl": "https://lh3.googleusercontent.com/-JaOi0yPHfYA/AAAAAAAAAAI/AAAAAAAAACY/KE7Nc9J31IA/s64/photo.jpg",
      "userId": "05111604239416667263"
     },
     "user_tz": 240
    },
    "id": "k9SROdk6jqbw",
    "outputId": "c09aa150-bfb6-4699-c5fb-f5adae8052fa"
   },
   "outputs": [],
   "source": [
    "print(np.dot(mat2,mat1))"
   ]
  },
  {
   "cell_type": "code",
   "execution_count": null,
   "metadata": {
    "colab": {
     "base_uri": "https://localhost:8080/"
    },
    "executionInfo": {
     "elapsed": 7,
     "status": "ok",
     "timestamp": 1622900643584,
     "user": {
      "displayName": "Tamara Alexandra Cucumides",
      "photoUrl": "https://lh3.googleusercontent.com/-JaOi0yPHfYA/AAAAAAAAAAI/AAAAAAAAACY/KE7Nc9J31IA/s64/photo.jpg",
      "userId": "05111604239416667263"
     },
     "user_tz": 240
    },
    "id": "FMca_mvukAz6",
    "outputId": "c150d16d-72b5-4d32-d25b-a5e5ed4a5bee"
   },
   "outputs": [],
   "source": [
    "print(np.dot(mat1,mat2.T))"
   ]
  },
  {
   "cell_type": "code",
   "execution_count": null,
   "metadata": {
    "id": "vtATkCZk5neG"
   },
   "outputs": [],
   "source": [
    "## Metodos de algebra lineal que ya vienen implementados"
   ]
  },
  {
   "cell_type": "code",
   "execution_count": null,
   "metadata": {
    "colab": {
     "base_uri": "https://localhost:8080/"
    },
    "executionInfo": {
     "elapsed": 240,
     "status": "ok",
     "timestamp": 1622901361279,
     "user": {
      "displayName": "Tamara Alexandra Cucumides",
      "photoUrl": "https://lh3.googleusercontent.com/-JaOi0yPHfYA/AAAAAAAAAAI/AAAAAAAAACY/KE7Nc9J31IA/s64/photo.jpg",
      "userId": "05111604239416667263"
     },
     "user_tz": 240
    },
    "id": "FoXZNmXmpLTi",
    "outputId": "ea57b225-651f-4e8c-82db-73f3f51093e4"
   },
   "outputs": [],
   "source": [
    "# Norma de matriz o vector\n",
    "print(np.linalg.norm(v1))\n",
    "print(np.linalg.norm(mat1))\n",
    "# Determinante\n",
    "print(np.linalg.det(mat1))\n",
    "# Calculo de la inversa para una matriz\n",
    "print(np.linalg.inv(mat1))"
   ]
  },
  {
   "cell_type": "code",
   "execution_count": null,
   "metadata": {
    "colab": {
     "base_uri": "https://localhost:8080/"
    },
    "executionInfo": {
     "elapsed": 227,
     "status": "ok",
     "timestamp": 1622901400565,
     "user": {
      "displayName": "Tamara Alexandra Cucumides",
      "photoUrl": "https://lh3.googleusercontent.com/-JaOi0yPHfYA/AAAAAAAAAAI/AAAAAAAAACY/KE7Nc9J31IA/s64/photo.jpg",
      "userId": "05111604239416667263"
     },
     "user_tz": 240
    },
    "id": "2A0A0ZpVdhbg",
    "outputId": "0d97c6bd-4c60-4fa0-9291-0a484c3c3789"
   },
   "outputs": [],
   "source": [
    "mat1"
   ]
  },
  {
   "cell_type": "code",
   "execution_count": null,
   "metadata": {
    "colab": {
     "base_uri": "https://localhost:8080/"
    },
    "executionInfo": {
     "elapsed": 239,
     "status": "ok",
     "timestamp": 1622901427769,
     "user": {
      "displayName": "Tamara Alexandra Cucumides",
      "photoUrl": "https://lh3.googleusercontent.com/-JaOi0yPHfYA/AAAAAAAAAAI/AAAAAAAAACY/KE7Nc9J31IA/s64/photo.jpg",
      "userId": "05111604239416667263"
     },
     "user_tz": 240
    },
    "id": "nODkPzTuPYCn",
    "outputId": "be0b474f-3d2b-4a8c-d37d-4c427da20daf"
   },
   "outputs": [],
   "source": [
    "# Descomposiciones matriciales\n",
    "s,v,d = np.linalg.svd(mat1)\n",
    "print(s)\n",
    "print(v)\n",
    "print(d)\n"
   ]
  },
  {
   "cell_type": "code",
   "execution_count": null,
   "metadata": {
    "colab": {
     "base_uri": "https://localhost:8080/",
     "height": 358
    },
    "executionInfo": {
     "elapsed": 229,
     "status": "error",
     "timestamp": 1622901494923,
     "user": {
      "displayName": "Tamara Alexandra Cucumides",
      "photoUrl": "https://lh3.googleusercontent.com/-JaOi0yPHfYA/AAAAAAAAAAI/AAAAAAAAACY/KE7Nc9J31IA/s64/photo.jpg",
      "userId": "05111604239416667263"
     },
     "user_tz": 240
    },
    "id": "ZIDaafJzdqPt",
    "outputId": "104fb8ca-106f-479d-b2ca-bd9d4f95ba18"
   },
   "outputs": [],
   "source": [
    "print(np.linalg.cholesky(mat1))"
   ]
  },
  {
   "cell_type": "code",
   "execution_count": null,
   "metadata": {
    "colab": {
     "base_uri": "https://localhost:8080/"
    },
    "executionInfo": {
     "elapsed": 228,
     "status": "ok",
     "timestamp": 1622901533254,
     "user": {
      "displayName": "Tamara Alexandra Cucumides",
      "photoUrl": "https://lh3.googleusercontent.com/-JaOi0yPHfYA/AAAAAAAAAAI/AAAAAAAAACY/KE7Nc9J31IA/s64/photo.jpg",
      "userId": "05111604239416667263"
     },
     "user_tz": 240
    },
    "id": "zxd1nCN-dfsL",
    "outputId": "97df11f4-3670-4ec7-dcbc-e621586069ca"
   },
   "outputs": [],
   "source": [
    "print(np.linalg.qr(mat1))"
   ]
  },
  {
   "cell_type": "code",
   "execution_count": null,
   "metadata": {
    "colab": {
     "base_uri": "https://localhost:8080/"
    },
    "executionInfo": {
     "elapsed": 234,
     "status": "ok",
     "timestamp": 1622901645802,
     "user": {
      "displayName": "Tamara Alexandra Cucumides",
      "photoUrl": "https://lh3.googleusercontent.com/-JaOi0yPHfYA/AAAAAAAAAAI/AAAAAAAAACY/KE7Nc9J31IA/s64/photo.jpg",
      "userId": "05111604239416667263"
     },
     "user_tz": 240
    },
    "id": "LR_oyX8-PlOa",
    "outputId": "70c2f3e3-3acb-477c-eb0f-bf441046b537"
   },
   "outputs": [],
   "source": [
    "# Valores y vectores propios\n",
    "w, v = np.linalg.eig(mat1)\n",
    "print(w)\n",
    "print(v)"
   ]
  },
  {
   "cell_type": "code",
   "execution_count": null,
   "metadata": {
    "colab": {
     "base_uri": "https://localhost:8080/"
    },
    "executionInfo": {
     "elapsed": 226,
     "status": "ok",
     "timestamp": 1622864561982,
     "user": {
      "displayName": "Tamara Alexandra Cucumides",
      "photoUrl": "https://lh3.googleusercontent.com/-JaOi0yPHfYA/AAAAAAAAAAI/AAAAAAAAACY/KE7Nc9J31IA/s64/photo.jpg",
      "userId": "05111604239416667263"
     },
     "user_tz": 240
    },
    "id": "s34sJcOcP-_S",
    "outputId": "735e5ef3-facd-43b0-9bcd-2fae6ecd508f"
   },
   "outputs": [],
   "source": [
    "# Creacion de matrices\n",
    "print(np.zeros(5))\n",
    "print(np.zeros([2,3]))\n",
    "\n",
    "print(np.ones(8))\n",
    "print(np.ones([8,6]))"
   ]
  },
  {
   "cell_type": "code",
   "execution_count": null,
   "metadata": {
    "colab": {
     "base_uri": "https://localhost:8080/"
    },
    "executionInfo": {
     "elapsed": 237,
     "status": "ok",
     "timestamp": 1622901740499,
     "user": {
      "displayName": "Tamara Alexandra Cucumides",
      "photoUrl": "https://lh3.googleusercontent.com/-JaOi0yPHfYA/AAAAAAAAAAI/AAAAAAAAACY/KE7Nc9J31IA/s64/photo.jpg",
      "userId": "05111604239416667263"
     },
     "user_tz": 240
    },
    "id": "ptuXNRSkQvOz",
    "outputId": "3553942c-3f07-4306-d431-1f6f6545c9cd"
   },
   "outputs": [],
   "source": [
    "## De manera random\n",
    "print(np.random.rand(7))\n",
    "print(np.random.rand(3,2))"
   ]
  },
  {
   "cell_type": "code",
   "execution_count": null,
   "metadata": {
    "colab": {
     "base_uri": "https://localhost:8080/"
    },
    "executionInfo": {
     "elapsed": 234,
     "status": "ok",
     "timestamp": 1622901823316,
     "user": {
      "displayName": "Tamara Alexandra Cucumides",
      "photoUrl": "https://lh3.googleusercontent.com/-JaOi0yPHfYA/AAAAAAAAAAI/AAAAAAAAACY/KE7Nc9J31IA/s64/photo.jpg",
      "userId": "05111604239416667263"
     },
     "user_tz": 240
    },
    "id": "G1vCY52tpecK",
    "outputId": "97982b70-e09a-4558-8f6a-28a901bb4834"
   },
   "outputs": [],
   "source": [
    "# Algunas medidas estadisticas\n",
    "print(v1)\n",
    "print(v1.max())\n",
    "print(v1.min())\n",
    "print(v1.mean())\n",
    "print(np.percentile(v1,100))\n",
    "print(np.var(v1))\n",
    "print(np.std(v1))"
   ]
  },
  {
   "cell_type": "code",
   "execution_count": null,
   "metadata": {
    "colab": {
     "base_uri": "https://localhost:8080/"
    },
    "executionInfo": {
     "elapsed": 241,
     "status": "ok",
     "timestamp": 1622902019138,
     "user": {
      "displayName": "Tamara Alexandra Cucumides",
      "photoUrl": "https://lh3.googleusercontent.com/-JaOi0yPHfYA/AAAAAAAAAAI/AAAAAAAAACY/KE7Nc9J31IA/s64/photo.jpg",
      "userId": "05111604239416667263"
     },
     "user_tz": 240
    },
    "id": "sise_82TSlFo",
    "outputId": "40ecf843-c1a7-494d-9f36-41263ded58bc"
   },
   "outputs": [],
   "source": [
    "# Sorting\n",
    "v3 = np.array([7,2,6,9,14,5,3])\n",
    "print(v3)\n",
    "v3.sort()\n",
    "print(v3)\n",
    "m3 = np.array([[2,9,5],[3,1,7]])\n",
    "print(m3)\n",
    "m3.sort()\n",
    "print(m3)"
   ]
  },
  {
   "cell_type": "markdown",
   "metadata": {
    "id": "Bf8qniVtSd3S"
   },
   "source": [
    "Numpy tiene un monton de otras cosas, siempre pueden revisar la documentacion: https://numpy.org/doc/stable/contents.html"
   ]
  }
 ],
 "metadata": {
  "colab": {
   "authorship_tag": "ABX9TyPMlIvicjtBjyHOt3yRLAdR",
   "collapsed_sections": [],
   "name": "Numpy y Pandas.ipynb",
   "provenance": [],
   "toc_visible": true
  },
  "kernelspec": {
   "display_name": "Python 3",
   "language": "python",
   "name": "python3"
  },
  "language_info": {
   "codemirror_mode": {
    "name": "ipython",
    "version": 3
   },
   "file_extension": ".py",
   "mimetype": "text/x-python",
   "name": "python",
   "nbconvert_exporter": "python",
   "pygments_lexer": "ipython3",
   "version": "3.9.0"
  }
 },
 "nbformat": 4,
 "nbformat_minor": 1
}
