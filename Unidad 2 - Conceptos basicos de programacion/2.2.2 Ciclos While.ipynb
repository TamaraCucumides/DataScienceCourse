{
 "cells": [
  {
   "cell_type": "markdown",
   "metadata": {},
   "source": [
    "# Ciclos: while"
   ]
  },
  {
   "cell_type": "markdown",
   "metadata": {},
   "source": [
    "Ademas de ejecutar la misma accion una cantidad determinada de veces, podemos querer ejecutar la accion mientras alguna condicion se cumpla. Para esto podemos utilizar la sentencia `while` cuya sintaxis es:"
   ]
  },
  {
   "cell_type": "code",
   "execution_count": null,
   "metadata": {},
   "outputs": [],
   "source": [
    "while <condicion>:\n",
    "    # acciones que se ejecutaran mientras condicion tenga valor True"
   ]
  },
  {
   "cell_type": "markdown",
   "metadata": {},
   "source": [
    "Por ejemplo, podemos crear un codigo que imprima el valor de i siempre y cuando este sea menor que 5"
   ]
  },
  {
   "cell_type": "code",
   "execution_count": 10,
   "metadata": {},
   "outputs": [
    {
     "name": "stdout",
     "output_type": "stream",
     "text": [
      "1\n",
      "2\n",
      "3\n",
      "4\n"
     ]
    }
   ],
   "source": [
    "contador = 1\n",
    "while contador < 5:\n",
    "    print(contador)\n",
    "    contador += 1"
   ]
  },
  {
   "cell_type": "code",
   "execution_count": 3,
   "metadata": {},
   "outputs": [],
   "source": [
    "i +=1"
   ]
  },
  {
   "cell_type": "markdown",
   "metadata": {},
   "source": [
    "El ciclo while anterior es un ciclo controlado por conteo, es decir, se mantiene una variable que sirve como \"contador\" (en este caso el i) y la condicion del while es que este contador llegue a cierto numero (en este caso, el 4). En cada iteracion, el contador aumenta en 1. "
   ]
  },
  {
   "cell_type": "markdown",
   "metadata": {},
   "source": [
    "Como condicion del while podemos utilizar cualquier variable con valores booleanos. Por ejemplo: "
   ]
  },
  {
   "cell_type": "code",
   "execution_count": 12,
   "metadata": {},
   "outputs": [],
   "source": [
    "import random"
   ]
  },
  {
   "cell_type": "code",
   "execution_count": 24,
   "metadata": {},
   "outputs": [
    {
     "data": {
      "text/plain": [
       "'b'"
      ]
     },
     "execution_count": 24,
     "metadata": {},
     "output_type": "execute_result"
    }
   ],
   "source": [
    "random.choice([\"a\",\"b\",\"c\",\"d\"])"
   ]
  },
  {
   "cell_type": "code",
   "execution_count": 36,
   "metadata": {},
   "outputs": [
    {
     "name": "stdout",
     "output_type": "stream",
     "text": [
      "Seguimos ejecutando el programa\n",
      "Seguimos ejecutando el programa\n",
      "Salio sello\n"
     ]
    }
   ],
   "source": [
    "continuar = True\n",
    "\n",
    "while continuar:\n",
    "    print(\"Seguimos ejecutando el programa\")\n",
    "    moneda = random.choice([\"cara\", \"sello\"])\n",
    "    if moneda == \"sello\":\n",
    "        print(\"Salio sello\")\n",
    "        continuar = False"
   ]
  },
  {
   "cell_type": "markdown",
   "metadata": {},
   "source": [
    "En el caso anterior, en cada iteracion estamos simulando la tirada de una moneda. Si sale cara, seguimos ejecutando el programa, pero si sale sello, paramos. Por esto, cuando la variable moneda toma valor sello, cambiamos el valor de continuar a False. "
   ]
  },
  {
   "cell_type": "code",
   "execution_count": null,
   "metadata": {},
   "outputs": [],
   "source": []
  }
 ],
 "metadata": {
  "kernelspec": {
   "display_name": "Python 3",
   "language": "python",
   "name": "python3"
  },
  "language_info": {
   "codemirror_mode": {
    "name": "ipython",
    "version": 3
   },
   "file_extension": ".py",
   "mimetype": "text/x-python",
   "name": "python",
   "nbconvert_exporter": "python",
   "pygments_lexer": "ipython3",
   "version": "3.8.5"
  }
 },
 "nbformat": 4,
 "nbformat_minor": 4
}
